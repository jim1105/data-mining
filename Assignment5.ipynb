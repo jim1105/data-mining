{
 "cells": [
  {
   "cell_type": "code",
   "execution_count": 932,
   "metadata": {},
   "outputs": [],
   "source": [
    "import pandas as pd\n",
    "import matplotlib.pyplot as plt\n",
    "import seaborn as sns\n",
    "from sklearn.model_selection import train_test_split\n",
    "from sklearn.linear_model import LinearRegression\n",
    "from sklearn.metrics import r2_score"
   ]
  },
  {
   "cell_type": "code",
   "execution_count": 933,
   "metadata": {},
   "outputs": [],
   "source": [
    "df_beijing = pd.read_csv('./Beijing.csv')\n",
    "df_chengdu = pd.read_csv('./Chengdu.csv')\n",
    "df_guangzhou = pd.read_csv('./Guangzhou.csv')\n",
    "df_shanghai = pd.read_csv('./Shanghai.csv')\n",
    "df_shenyang = pd.read_csv('./Shenyang.csv')"
   ]
  },
  {
   "cell_type": "markdown",
   "metadata": {},
   "source": [
    "# 1.1 Answer the following questions"
   ]
  },
  {
   "cell_type": "markdown",
   "metadata": {},
   "source": [
    "# 1.1.1"
   ]
  },
  {
   "cell_type": "code",
   "execution_count": 934,
   "metadata": {},
   "outputs": [
    {
     "data": {
      "text/plain": [
       "61.0"
      ]
     },
     "execution_count": 934,
     "metadata": {},
     "output_type": "execute_result"
    }
   ],
   "source": [
    "df_beijing['TEMP'].max()-df_beijing['TEMP'].min()"
   ]
  },
  {
   "cell_type": "code",
   "execution_count": 935,
   "metadata": {},
   "outputs": [
    {
     "data": {
      "text/plain": [
       "41.0"
      ]
     },
     "execution_count": 935,
     "metadata": {},
     "output_type": "execute_result"
    }
   ],
   "source": [
    "df_chengdu['TEMP'].max()-df_chengdu['TEMP'].min()"
   ]
  },
  {
   "cell_type": "code",
   "execution_count": 936,
   "metadata": {},
   "outputs": [
    {
     "data": {
      "text/plain": [
       "35.700001529999994"
      ]
     },
     "execution_count": 936,
     "metadata": {},
     "output_type": "execute_result"
    }
   ],
   "source": [
    "df_guangzhou['TEMP'].max()-df_guangzhou['TEMP'].min()"
   ]
  },
  {
   "cell_type": "code",
   "execution_count": 937,
   "metadata": {},
   "outputs": [
    {
     "data": {
      "text/plain": [
       "46.0"
      ]
     },
     "execution_count": 937,
     "metadata": {},
     "output_type": "execute_result"
    }
   ],
   "source": [
    "df_shanghai['TEMP'].max()-df_shanghai ['TEMP'].min()"
   ]
  },
  {
   "cell_type": "code",
   "execution_count": 938,
   "metadata": {},
   "outputs": [
    {
     "data": {
      "text/plain": [
       "63.0"
      ]
     },
     "execution_count": 938,
     "metadata": {},
     "output_type": "execute_result"
    }
   ],
   "source": [
    "df_shenyang['TEMP'].max()-df_shenyang['TEMP'].min()"
   ]
  },
  {
   "cell_type": "markdown",
   "metadata": {},
   "source": [
    "Shenyang has the largest temperature range"
   ]
  },
  {
   "cell_type": "markdown",
   "metadata": {},
   "source": [
    "# 1.1.2"
   ]
  },
  {
   "cell_type": "code",
   "execution_count": 939,
   "metadata": {},
   "outputs": [
    {
     "data": {
      "text/plain": [
       "95.90424117331851"
      ]
     },
     "execution_count": 939,
     "metadata": {},
     "output_type": "execute_result"
    }
   ],
   "source": [
    "df_beijing['PM'].mean(skipna = True) "
   ]
  },
  {
   "cell_type": "code",
   "execution_count": 940,
   "metadata": {},
   "outputs": [
    {
     "data": {
      "text/plain": [
       "83.4076124567474"
      ]
     },
     "execution_count": 940,
     "metadata": {},
     "output_type": "execute_result"
    }
   ],
   "source": [
    "df_chengdu['PM'].mean(skipna = True) "
   ]
  },
  {
   "cell_type": "code",
   "execution_count": 941,
   "metadata": {},
   "outputs": [
    {
     "data": {
      "text/plain": [
       "50.80393793273986"
      ]
     },
     "execution_count": 941,
     "metadata": {},
     "output_type": "execute_result"
    }
   ],
   "source": [
    "df_guangzhou['PM'].mean(skipna = True)"
   ]
  },
  {
   "cell_type": "code",
   "execution_count": 942,
   "metadata": {},
   "outputs": [
    {
     "data": {
      "text/plain": [
       "52.91054378800787"
      ]
     },
     "execution_count": 942,
     "metadata": {},
     "output_type": "execute_result"
    }
   ],
   "source": [
    "df_shanghai['PM'].mean(skipna = True)"
   ]
  },
  {
   "cell_type": "code",
   "execution_count": 943,
   "metadata": {},
   "outputs": [
    {
     "data": {
      "text/plain": [
       "75.8375"
      ]
     },
     "execution_count": 943,
     "metadata": {},
     "output_type": "execute_result"
    }
   ],
   "source": [
    "df_shenyang['PM'].mean(skipna = True)"
   ]
  },
  {
   "cell_type": "markdown",
   "metadata": {},
   "source": [
    "Bejing is the most polluted, and Guangzhou is least polluted. Based on the mean of PM(particulate matter), Bejing has  the highest average of level of PM around 95.9, and Guangzhou has the lowest average around 50.8"
   ]
  },
  {
   "cell_type": "markdown",
   "metadata": {},
   "source": [
    "# 1.1.3"
   ]
  },
  {
   "cell_type": "markdown",
   "metadata": {},
   "source": [
    "# Average temperature for Beijing"
   ]
  },
  {
   "cell_type": "code",
   "execution_count": 944,
   "metadata": {},
   "outputs": [
    {
     "data": {
      "text/plain": [
       "14.008454744470447"
      ]
     },
     "execution_count": 944,
     "metadata": {},
     "output_type": "execute_result"
    }
   ],
   "source": [
    "df_beijing[df_beijing['season'] == 1]['TEMP'].mean(skipna = True)"
   ]
  },
  {
   "cell_type": "code",
   "execution_count": 945,
   "metadata": {},
   "outputs": [
    {
     "data": {
      "text/plain": [
       "25.852710252151592"
      ]
     },
     "execution_count": 945,
     "metadata": {},
     "output_type": "execute_result"
    }
   ],
   "source": [
    "df_beijing[df_beijing['season'] == 2]['TEMP'].mean(skipna = True)"
   ]
  },
  {
   "cell_type": "code",
   "execution_count": 946,
   "metadata": {},
   "outputs": [
    {
     "data": {
      "text/plain": [
       "12.623597649393497"
      ]
     },
     "execution_count": 946,
     "metadata": {},
     "output_type": "execute_result"
    }
   ],
   "source": [
    "df_beijing[df_beijing['season'] == 3]['TEMP'].mean(skipna = True)"
   ]
  },
  {
   "cell_type": "code",
   "execution_count": 947,
   "metadata": {},
   "outputs": [
    {
     "data": {
      "text/plain": [
       "-2.434568281599014"
      ]
     },
     "execution_count": 947,
     "metadata": {},
     "output_type": "execute_result"
    }
   ],
   "source": [
    "df_beijing[df_beijing['season'] == 4]['TEMP'].mean(skipna = True)"
   ]
  },
  {
   "cell_type": "markdown",
   "metadata": {},
   "source": [
    "# Average temperature for Chengdu"
   ]
  },
  {
   "cell_type": "code",
   "execution_count": 948,
   "metadata": {},
   "outputs": [
    {
     "data": {
      "text/plain": [
       "18.258193507919085"
      ]
     },
     "execution_count": 948,
     "metadata": {},
     "output_type": "execute_result"
    }
   ],
   "source": [
    "df_chengdu[df_chengdu['season'] == 1]['TEMP'].mean(skipna = True)"
   ]
  },
  {
   "cell_type": "code",
   "execution_count": 949,
   "metadata": {},
   "outputs": [
    {
     "data": {
      "text/plain": [
       "25.966364323507182"
      ]
     },
     "execution_count": 949,
     "metadata": {},
     "output_type": "execute_result"
    }
   ],
   "source": [
    "df_chengdu[df_chengdu['season'] == 2]['TEMP'].mean(skipna = True)"
   ]
  },
  {
   "cell_type": "code",
   "execution_count": 950,
   "metadata": {},
   "outputs": [
    {
     "data": {
      "text/plain": [
       "18.356542983661626"
      ]
     },
     "execution_count": 950,
     "metadata": {},
     "output_type": "execute_result"
    }
   ],
   "source": [
    "df_chengdu[df_chengdu['season'] == 3]['TEMP'].mean(skipna = True)"
   ]
  },
  {
   "cell_type": "code",
   "execution_count": 951,
   "metadata": {},
   "outputs": [
    {
     "data": {
      "text/plain": [
       "8.05233140655106"
      ]
     },
     "execution_count": 951,
     "metadata": {},
     "output_type": "execute_result"
    }
   ],
   "source": [
    "df_chengdu[df_chengdu['season'] == 4]['TEMP'].mean(skipna = True)"
   ]
  },
  {
   "cell_type": "markdown",
   "metadata": {},
   "source": [
    "# Average temperature for Guangzhou"
   ]
  },
  {
   "cell_type": "code",
   "execution_count": 952,
   "metadata": {},
   "outputs": [
    {
     "data": {
      "text/plain": [
       "21.906166968381697"
      ]
     },
     "execution_count": 952,
     "metadata": {},
     "output_type": "execute_result"
    }
   ],
   "source": [
    "df_guangzhou[df_guangzhou['season'] == 1]['TEMP'].mean(skipna = True)"
   ]
  },
  {
   "cell_type": "code",
   "execution_count": 953,
   "metadata": {},
   "outputs": [
    {
     "data": {
      "text/plain": [
       "28.2032608711783"
      ]
     },
     "execution_count": 953,
     "metadata": {},
     "output_type": "execute_result"
    }
   ],
   "source": [
    "df_guangzhou[df_guangzhou['season'] == 2]['TEMP'].mean(skipna = True)"
   ]
  },
  {
   "cell_type": "code",
   "execution_count": 954,
   "metadata": {},
   "outputs": [
    {
     "data": {
      "text/plain": [
       "23.635798227152275"
      ]
     },
     "execution_count": 954,
     "metadata": {},
     "output_type": "execute_result"
    }
   ],
   "source": [
    "df_guangzhou[df_guangzhou['season'] == 3]['TEMP'].mean(skipna = True)"
   ]
  },
  {
   "cell_type": "code",
   "execution_count": 955,
   "metadata": {},
   "outputs": [
    {
     "data": {
      "text/plain": [
       "14.099237464661558"
      ]
     },
     "execution_count": 955,
     "metadata": {},
     "output_type": "execute_result"
    }
   ],
   "source": [
    "df_guangzhou[df_guangzhou['season'] == 4]['TEMP'].mean(skipna = True)"
   ]
  },
  {
   "cell_type": "markdown",
   "metadata": {},
   "source": [
    "# Average temperature for Shanghai"
   ]
  },
  {
   "cell_type": "code",
   "execution_count": 956,
   "metadata": {},
   "outputs": [
    {
     "data": {
      "text/plain": [
       "15.982709151313802"
      ]
     },
     "execution_count": 956,
     "metadata": {},
     "output_type": "execute_result"
    }
   ],
   "source": [
    "df_shanghai[df_shanghai['season'] == 1]['TEMP'].mean(skipna = True)"
   ]
  },
  {
   "cell_type": "code",
   "execution_count": 957,
   "metadata": {},
   "outputs": [
    {
     "data": {
      "text/plain": [
       "27.705797976747697"
      ]
     },
     "execution_count": 957,
     "metadata": {},
     "output_type": "execute_result"
    }
   ],
   "source": [
    "df_shanghai[df_shanghai['season'] == 2]['TEMP'].mean(skipna = True)"
   ]
  },
  {
   "cell_type": "code",
   "execution_count": 958,
   "metadata": {},
   "outputs": [
    {
     "data": {
      "text/plain": [
       "19.76570251087537"
      ]
     },
     "execution_count": 958,
     "metadata": {},
     "output_type": "execute_result"
    }
   ],
   "source": [
    "df_shanghai[df_shanghai['season'] == 3]['TEMP'].mean(skipna = True)"
   ]
  },
  {
   "cell_type": "code",
   "execution_count": 959,
   "metadata": {},
   "outputs": [
    {
     "data": {
      "text/plain": [
       "6.2273077515795965"
      ]
     },
     "execution_count": 959,
     "metadata": {},
     "output_type": "execute_result"
    }
   ],
   "source": [
    "df_shanghai[df_shanghai['season'] == 4]['TEMP'].mean(skipna = True)"
   ]
  },
  {
   "cell_type": "markdown",
   "metadata": {},
   "source": [
    "# Average temperature for shenyang"
   ]
  },
  {
   "cell_type": "code",
   "execution_count": 960,
   "metadata": {},
   "outputs": [
    {
     "data": {
      "text/plain": [
       "9.456421666410925"
      ]
     },
     "execution_count": 960,
     "metadata": {},
     "output_type": "execute_result"
    }
   ],
   "source": [
    "df_shenyang[df_shenyang['season'] == 1]['TEMP'].mean(skipna = True)"
   ]
  },
  {
   "cell_type": "code",
   "execution_count": 961,
   "metadata": {},
   "outputs": [
    {
     "data": {
      "text/plain": [
       "23.61206099815157"
      ]
     },
     "execution_count": 961,
     "metadata": {},
     "output_type": "execute_result"
    }
   ],
   "source": [
    "df_shenyang[df_shenyang['season'] == 2]['TEMP'].mean(skipna = True)"
   ]
  },
  {
   "cell_type": "code",
   "execution_count": 962,
   "metadata": {},
   "outputs": [
    {
     "data": {
      "text/plain": [
       "9.809549438720591"
      ]
     },
     "execution_count": 962,
     "metadata": {},
     "output_type": "execute_result"
    }
   ],
   "source": [
    "df_shenyang[df_shenyang['season'] == 3]['TEMP'].mean(skipna = True)"
   ]
  },
  {
   "cell_type": "code",
   "execution_count": 963,
   "metadata": {},
   "outputs": [
    {
     "data": {
      "text/plain": [
       "-9.199953372707492"
      ]
     },
     "execution_count": 963,
     "metadata": {},
     "output_type": "execute_result"
    }
   ],
   "source": [
    "df_shenyang[df_shenyang['season'] == 4]['TEMP'].mean(skipna = True)"
   ]
  },
  {
   "cell_type": "markdown",
   "metadata": {},
   "source": [
    "# 1.1.4"
   ]
  },
  {
   "cell_type": "markdown",
   "metadata": {},
   "source": [
    "# Average temperature of each city for Summer from 2010 to 2015"
   ]
  },
  {
   "cell_type": "code",
   "execution_count": 964,
   "metadata": {
    "scrolled": true
   },
   "outputs": [
    {
     "data": {
      "text/plain": [
       "25.941576086956523"
      ]
     },
     "execution_count": 964,
     "metadata": {},
     "output_type": "execute_result"
    }
   ],
   "source": [
    "df_beijing[(df_beijing['season'] == 2) & (df_beijing['year'] == 2010)]['TEMP'].mean(skipna = True)"
   ]
  },
  {
   "cell_type": "code",
   "execution_count": 965,
   "metadata": {
    "scrolled": true
   },
   "outputs": [
    {
     "data": {
      "text/plain": [
       "25.96195652173913"
      ]
     },
     "execution_count": 965,
     "metadata": {},
     "output_type": "execute_result"
    }
   ],
   "source": [
    "df_beijing[(df_beijing['season'] == 2) & (df_beijing['year'] == 2011)]['TEMP'].mean(skipna = True)"
   ]
  },
  {
   "cell_type": "code",
   "execution_count": 966,
   "metadata": {},
   "outputs": [
    {
     "data": {
      "text/plain": [
       "25.468297101449274"
      ]
     },
     "execution_count": 966,
     "metadata": {},
     "output_type": "execute_result"
    }
   ],
   "source": [
    "df_beijing[(df_beijing['season'] == 2) & (df_beijing['year'] == 2012)]['TEMP'].mean(skipna = True)"
   ]
  },
  {
   "cell_type": "code",
   "execution_count": 967,
   "metadata": {},
   "outputs": [
    {
     "data": {
      "text/plain": [
       "25.801177536231883"
      ]
     },
     "execution_count": 967,
     "metadata": {},
     "output_type": "execute_result"
    }
   ],
   "source": [
    "df_beijing[(df_beijing['season'] == 2) & (df_beijing['year'] == 2013)]['TEMP'].mean(skipna = True)"
   ]
  },
  {
   "cell_type": "code",
   "execution_count": 968,
   "metadata": {},
   "outputs": [
    {
     "data": {
      "text/plain": [
       "26.24139492753623"
      ]
     },
     "execution_count": 968,
     "metadata": {},
     "output_type": "execute_result"
    }
   ],
   "source": [
    "df_beijing[(df_beijing['season'] == 2) & (df_beijing['year'] == 2014)]['TEMP'].mean(skipna = True)"
   ]
  },
  {
   "cell_type": "code",
   "execution_count": 969,
   "metadata": {},
   "outputs": [
    {
     "data": {
      "text/plain": [
       "25.701722574796012"
      ]
     },
     "execution_count": 969,
     "metadata": {},
     "output_type": "execute_result"
    }
   ],
   "source": [
    "df_beijing[(df_beijing['season'] == 2) & (df_beijing['year'] == 2015)]['TEMP'].mean(skipna = True)"
   ]
  },
  {
   "cell_type": "code",
   "execution_count": 970,
   "metadata": {},
   "outputs": [
    {
     "data": {
      "text/plain": [
       "25.239455782312927"
      ]
     },
     "execution_count": 970,
     "metadata": {},
     "output_type": "execute_result"
    }
   ],
   "source": [
    "df_chengdu[(df_chengdu['season'] == 2) & (df_chengdu['year'] == 2010)]['TEMP'].mean(skipna = True)"
   ]
  },
  {
   "cell_type": "code",
   "execution_count": 971,
   "metadata": {},
   "outputs": [
    {
     "data": {
      "text/plain": [
       "26.22721088435374"
      ]
     },
     "execution_count": 971,
     "metadata": {},
     "output_type": "execute_result"
    }
   ],
   "source": [
    "df_chengdu[(df_chengdu['season'] == 2) & (df_chengdu['year'] == 2011)]['TEMP'].mean(skipna = True)"
   ]
  },
  {
   "cell_type": "code",
   "execution_count": 972,
   "metadata": {},
   "outputs": [
    {
     "data": {
      "text/plain": [
       "25.688294010889294"
      ]
     },
     "execution_count": 972,
     "metadata": {},
     "output_type": "execute_result"
    }
   ],
   "source": [
    "df_chengdu[(df_chengdu['season'] == 2) & (df_chengdu['year'] == 2012)]['TEMP'].mean(skipna = True)"
   ]
  },
  {
   "cell_type": "code",
   "execution_count": 973,
   "metadata": {},
   "outputs": [
    {
     "data": {
      "text/plain": [
       "26.96504766227871"
      ]
     },
     "execution_count": 973,
     "metadata": {},
     "output_type": "execute_result"
    }
   ],
   "source": [
    "df_chengdu[(df_chengdu['season'] == 2) & (df_chengdu['year'] == 2013)]['TEMP'].mean(skipna = True)"
   ]
  },
  {
   "cell_type": "code",
   "execution_count": 974,
   "metadata": {},
   "outputs": [
    {
     "data": {
      "text/plain": [
       "25.557518115942027"
      ]
     },
     "execution_count": 974,
     "metadata": {},
     "output_type": "execute_result"
    }
   ],
   "source": [
    "df_chengdu[(df_chengdu['season'] == 2) & (df_chengdu['year'] == 2014)]['TEMP'].mean(skipna = True)"
   ]
  },
  {
   "cell_type": "code",
   "execution_count": 975,
   "metadata": {},
   "outputs": [
    {
     "data": {
      "text/plain": [
       "26.121995464852606"
      ]
     },
     "execution_count": 975,
     "metadata": {},
     "output_type": "execute_result"
    }
   ],
   "source": [
    "df_chengdu[(df_chengdu['season'] == 2) & (df_chengdu['year'] == 2015)]['TEMP'].mean(skipna = True)"
   ]
  },
  {
   "cell_type": "code",
   "execution_count": 976,
   "metadata": {},
   "outputs": [
    {
     "data": {
      "text/plain": [
       "28.615262681159397"
      ]
     },
     "execution_count": 976,
     "metadata": {},
     "output_type": "execute_result"
    }
   ],
   "source": [
    "df_guangzhou[(df_guangzhou['season'] == 2) & (df_guangzhou['year'] == 2010)]['TEMP'].mean(skipna = True)"
   ]
  },
  {
   "cell_type": "code",
   "execution_count": 977,
   "metadata": {},
   "outputs": [
    {
     "data": {
      "text/plain": [
       "28.450271739130446"
      ]
     },
     "execution_count": 977,
     "metadata": {},
     "output_type": "execute_result"
    }
   ],
   "source": [
    "df_guangzhou[(df_guangzhou['season'] == 2) & (df_guangzhou['year'] == 2011)]['TEMP'].mean(skipna = True)"
   ]
  },
  {
   "cell_type": "code",
   "execution_count": 978,
   "metadata": {},
   "outputs": [
    {
     "data": {
      "text/plain": [
       "28.027898550724583"
      ]
     },
     "execution_count": 978,
     "metadata": {},
     "output_type": "execute_result"
    }
   ],
   "source": [
    "df_guangzhou[(df_guangzhou['season'] == 2) & (df_guangzhou['year'] == 2012)]['TEMP'].mean(skipna = True)"
   ]
  },
  {
   "cell_type": "code",
   "execution_count": 979,
   "metadata": {},
   "outputs": [
    {
     "data": {
      "text/plain": [
       "27.507971014492735"
      ]
     },
     "execution_count": 979,
     "metadata": {},
     "output_type": "execute_result"
    }
   ],
   "source": [
    "df_guangzhou[(df_guangzhou['season'] == 2) & (df_guangzhou['year'] == 2013)]['TEMP'].mean(skipna = True)"
   ]
  },
  {
   "cell_type": "code",
   "execution_count": 980,
   "metadata": {},
   "outputs": [
    {
     "data": {
      "text/plain": [
       "28.440579710144934"
      ]
     },
     "execution_count": 980,
     "metadata": {},
     "output_type": "execute_result"
    }
   ],
   "source": [
    "df_guangzhou[(df_guangzhou['season'] == 2) & (df_guangzhou['year'] == 2014)]['TEMP'].mean(skipna = True)"
   ]
  },
  {
   "cell_type": "code",
   "execution_count": 981,
   "metadata": {},
   "outputs": [
    {
     "data": {
      "text/plain": [
       "28.177581531417566"
      ]
     },
     "execution_count": 981,
     "metadata": {},
     "output_type": "execute_result"
    }
   ],
   "source": [
    "df_guangzhou[(df_guangzhou['season'] == 2) & (df_guangzhou['year'] == 2015)]['TEMP'].mean(skipna = True)"
   ]
  },
  {
   "cell_type": "code",
   "execution_count": 982,
   "metadata": {},
   "outputs": [
    {
     "data": {
      "text/plain": [
       "27.96286231884058"
      ]
     },
     "execution_count": 982,
     "metadata": {},
     "output_type": "execute_result"
    }
   ],
   "source": [
    "df_shanghai[(df_shanghai['season'] == 2) & (df_shanghai['year'] == 2010)]['TEMP'].mean(skipna = True)"
   ]
  },
  {
   "cell_type": "code",
   "execution_count": 983,
   "metadata": {},
   "outputs": [
    {
     "data": {
      "text/plain": [
       "27.61304938830992"
      ]
     },
     "execution_count": 983,
     "metadata": {},
     "output_type": "execute_result"
    }
   ],
   "source": [
    "df_shanghai[(df_shanghai['season'] == 2) & (df_shanghai['year'] == 2011)]['TEMP'].mean(skipna = True)"
   ]
  },
  {
   "cell_type": "code",
   "execution_count": 984,
   "metadata": {},
   "outputs": [
    {
     "data": {
      "text/plain": [
       "28.18161231884058"
      ]
     },
     "execution_count": 984,
     "metadata": {},
     "output_type": "execute_result"
    }
   ],
   "source": [
    "df_shanghai[(df_shanghai['season'] == 2) & (df_shanghai['year'] == 2012)]['TEMP'].mean(skipna = True)"
   ]
  },
  {
   "cell_type": "code",
   "execution_count": 985,
   "metadata": {},
   "outputs": [
    {
     "data": {
      "text/plain": [
       "29.410965111010423"
      ]
     },
     "execution_count": 985,
     "metadata": {},
     "output_type": "execute_result"
    }
   ],
   "source": [
    "df_shanghai[(df_shanghai['season'] == 2) & (df_shanghai['year'] == 2013)]['TEMP'].mean(skipna = True)"
   ]
  },
  {
   "cell_type": "code",
   "execution_count": 986,
   "metadata": {},
   "outputs": [
    {
     "data": {
      "text/plain": [
       "26.35552536231884"
      ]
     },
     "execution_count": 986,
     "metadata": {},
     "output_type": "execute_result"
    }
   ],
   "source": [
    "df_shanghai[(df_shanghai['season'] == 2) & (df_shanghai['year'] == 2014)]['TEMP'].mean(skipna = True)"
   ]
  },
  {
   "cell_type": "code",
   "execution_count": 987,
   "metadata": {},
   "outputs": [
    {
     "data": {
      "text/plain": [
       "26.711503623188406"
      ]
     },
     "execution_count": 987,
     "metadata": {},
     "output_type": "execute_result"
    }
   ],
   "source": [
    "df_shanghai[(df_shanghai['season'] == 2) & (df_shanghai['year'] == 2015)]['TEMP'].mean(skipna = True)"
   ]
  },
  {
   "cell_type": "code",
   "execution_count": 988,
   "metadata": {},
   "outputs": [
    {
     "data": {
      "text/plain": [
       "23.54536135315223"
      ]
     },
     "execution_count": 988,
     "metadata": {},
     "output_type": "execute_result"
    }
   ],
   "source": [
    "df_shenyang[(df_shenyang['season'] == 2) & (df_shenyang['year'] == 2010)]['TEMP'].mean(skipna = True)"
   ]
  },
  {
   "cell_type": "code",
   "execution_count": 989,
   "metadata": {},
   "outputs": [
    {
     "data": {
      "text/plain": [
       "23.617127322156772"
      ]
     },
     "execution_count": 989,
     "metadata": {},
     "output_type": "execute_result"
    }
   ],
   "source": [
    "df_shenyang[(df_shenyang['season'] == 2) & (df_shenyang['year'] == 2011)]['TEMP'].mean(skipna = True)"
   ]
  },
  {
   "cell_type": "code",
   "execution_count": 990,
   "metadata": {},
   "outputs": [
    {
     "data": {
      "text/plain": [
       "23.17703132092601"
      ]
     },
     "execution_count": 990,
     "metadata": {},
     "output_type": "execute_result"
    }
   ],
   "source": [
    "df_shenyang[(df_shenyang['season'] == 2) & (df_shenyang['year'] == 2012)]['TEMP'].mean(skipna = True)"
   ]
  },
  {
   "cell_type": "code",
   "execution_count": 991,
   "metadata": {},
   "outputs": [
    {
     "data": {
      "text/plain": [
       "23.935206162211145"
      ]
     },
     "execution_count": 991,
     "metadata": {},
     "output_type": "execute_result"
    }
   ],
   "source": [
    "df_shenyang[(df_shenyang['season'] == 2) & (df_shenyang['year'] == 2013)]['TEMP'].mean(skipna = True)"
   ]
  },
  {
   "cell_type": "code",
   "execution_count": 992,
   "metadata": {},
   "outputs": [
    {
     "data": {
      "text/plain": [
       "23.77445652173913"
      ]
     },
     "execution_count": 992,
     "metadata": {},
     "output_type": "execute_result"
    }
   ],
   "source": [
    "df_shenyang[(df_shenyang['season'] == 2) & (df_shenyang['year'] == 2014)]['TEMP'].mean(skipna = True)"
   ]
  },
  {
   "cell_type": "code",
   "execution_count": 993,
   "metadata": {},
   "outputs": [
    {
     "data": {
      "text/plain": [
       "23.614583333333332"
      ]
     },
     "execution_count": 993,
     "metadata": {},
     "output_type": "execute_result"
    }
   ],
   "source": [
    "df_shenyang[(df_shenyang['season'] == 2) & (df_shenyang['year'] == 2015)]['TEMP'].mean(skipna = True)"
   ]
  },
  {
   "cell_type": "markdown",
   "metadata": {},
   "source": [
    "# Average temperature of each city for Winter from 2010 to 2015"
   ]
  },
  {
   "cell_type": "code",
   "execution_count": 994,
   "metadata": {
    "scrolled": true
   },
   "outputs": [
    {
     "data": {
      "text/plain": [
       "-3.4319444444444445"
      ]
     },
     "execution_count": 994,
     "metadata": {},
     "output_type": "execute_result"
    }
   ],
   "source": [
    "df_beijing[(df_beijing['season'] == 4) & (df_beijing['year'] == 2010)]['TEMP'].mean(skipna = True)"
   ]
  },
  {
   "cell_type": "code",
   "execution_count": 995,
   "metadata": {
    "scrolled": true
   },
   "outputs": [
    {
     "data": {
      "text/plain": [
       "-2.9717592592592594"
      ]
     },
     "execution_count": 995,
     "metadata": {},
     "output_type": "execute_result"
    }
   ],
   "source": [
    "df_beijing[(df_beijing['season'] == 4) & (df_beijing['year'] == 2011)]['TEMP'].mean(skipna = True)"
   ]
  },
  {
   "cell_type": "code",
   "execution_count": 996,
   "metadata": {},
   "outputs": [
    {
     "data": {
      "text/plain": [
       "-4.263736263736264"
      ]
     },
     "execution_count": 996,
     "metadata": {},
     "output_type": "execute_result"
    }
   ],
   "source": [
    "df_beijing[(df_beijing['season'] == 4) & (df_beijing['year'] == 2012)]['TEMP'].mean(skipna = True)"
   ]
  },
  {
   "cell_type": "code",
   "execution_count": 997,
   "metadata": {},
   "outputs": [
    {
     "data": {
      "text/plain": [
       "-2.5199074074074073"
      ]
     },
     "execution_count": 997,
     "metadata": {},
     "output_type": "execute_result"
    }
   ],
   "source": [
    "df_beijing[(df_beijing['season'] == 4) & (df_beijing['year'] == 2013)]['TEMP'].mean(skipna = True)"
   ]
  },
  {
   "cell_type": "code",
   "execution_count": 998,
   "metadata": {},
   "outputs": [
    {
     "data": {
      "text/plain": [
       "-1.0222222222222221"
      ]
     },
     "execution_count": 998,
     "metadata": {},
     "output_type": "execute_result"
    }
   ],
   "source": [
    "df_beijing[(df_beijing['season'] == 4) & (df_beijing['year'] == 2014)]['TEMP'].mean(skipna = True)"
   ]
  },
  {
   "cell_type": "code",
   "execution_count": 999,
   "metadata": {},
   "outputs": [
    {
     "data": {
      "text/plain": [
       "-0.3765632237146827"
      ]
     },
     "execution_count": 999,
     "metadata": {},
     "output_type": "execute_result"
    }
   ],
   "source": [
    "df_beijing[(df_beijing['season'] == 4) & (df_beijing['year'] == 2015)]['TEMP'].mean(skipna = True)"
   ]
  },
  {
   "cell_type": "code",
   "execution_count": 1000,
   "metadata": {},
   "outputs": [
    {
     "data": {
      "text/plain": [
       "8.89177891314445"
      ]
     },
     "execution_count": 1000,
     "metadata": {},
     "output_type": "execute_result"
    }
   ],
   "source": [
    "df_chengdu[(df_chengdu['season'] == 4) & (df_chengdu['year'] == 2010)]['TEMP'].mean(skipna = True)"
   ]
  },
  {
   "cell_type": "code",
   "execution_count": 1001,
   "metadata": {},
   "outputs": [
    {
     "data": {
      "text/plain": [
       "6.748031496062992"
      ]
     },
     "execution_count": 1001,
     "metadata": {},
     "output_type": "execute_result"
    }
   ],
   "source": [
    "df_chengdu[(df_chengdu['season'] == 4) & (df_chengdu['year'] == 2011)]['TEMP'].mean(skipna = True)"
   ]
  },
  {
   "cell_type": "code",
   "execution_count": 1002,
   "metadata": {},
   "outputs": [
    {
     "data": {
      "text/plain": [
       "6.912087912087912"
      ]
     },
     "execution_count": 1002,
     "metadata": {},
     "output_type": "execute_result"
    }
   ],
   "source": [
    "df_chengdu[(df_chengdu['season'] == 4) & (df_chengdu['year'] == 2012)]['TEMP'].mean(skipna = True)"
   ]
  },
  {
   "cell_type": "code",
   "execution_count": 1003,
   "metadata": {},
   "outputs": [
    {
     "data": {
      "text/plain": [
       "8.401851851851852"
      ]
     },
     "execution_count": 1003,
     "metadata": {},
     "output_type": "execute_result"
    }
   ],
   "source": [
    "df_chengdu[(df_chengdu['season'] == 4) & (df_chengdu['year'] == 2013)]['TEMP'].mean(skipna = True)"
   ]
  },
  {
   "cell_type": "code",
   "execution_count": 1004,
   "metadata": {},
   "outputs": [
    {
     "data": {
      "text/plain": [
       "8.07179249652617"
      ]
     },
     "execution_count": 1004,
     "metadata": {},
     "output_type": "execute_result"
    }
   ],
   "source": [
    "df_chengdu[(df_chengdu['season'] == 4) & (df_chengdu['year'] == 2014)]['TEMP'].mean(skipna = True)"
   ]
  },
  {
   "cell_type": "code",
   "execution_count": 1005,
   "metadata": {},
   "outputs": [
    {
     "data": {
      "text/plain": [
       "9.30324074074074"
      ]
     },
     "execution_count": 1005,
     "metadata": {},
     "output_type": "execute_result"
    }
   ],
   "source": [
    "df_chengdu[(df_chengdu['season'] == 4) & (df_chengdu['year'] == 2015)]['TEMP'].mean(skipna = True)"
   ]
  },
  {
   "cell_type": "code",
   "execution_count": 1006,
   "metadata": {},
   "outputs": [
    {
     "data": {
      "text/plain": [
       "15.679675925925935"
      ]
     },
     "execution_count": 1006,
     "metadata": {},
     "output_type": "execute_result"
    }
   ],
   "source": [
    "df_guangzhou[(df_guangzhou['season'] == 4) & (df_guangzhou['year'] == 2010)]['TEMP'].mean(skipna = True)"
   ]
  },
  {
   "cell_type": "code",
   "execution_count": 1007,
   "metadata": {},
   "outputs": [
    {
     "data": {
      "text/plain": [
       "12.78013888888888"
      ]
     },
     "execution_count": 1007,
     "metadata": {},
     "output_type": "execute_result"
    }
   ],
   "source": [
    "df_guangzhou[(df_guangzhou['season'] == 4) & (df_guangzhou['year'] == 2011)]['TEMP'].mean(skipna = True)"
   ]
  },
  {
   "cell_type": "code",
   "execution_count": 1008,
   "metadata": {},
   "outputs": [
    {
     "data": {
      "text/plain": [
       "13.438324175824187"
      ]
     },
     "execution_count": 1008,
     "metadata": {},
     "output_type": "execute_result"
    }
   ],
   "source": [
    "df_guangzhou[(df_guangzhou['season'] == 4) & (df_guangzhou['year'] == 2012)]['TEMP'].mean(skipna = True)"
   ]
  },
  {
   "cell_type": "code",
   "execution_count": 1009,
   "metadata": {},
   "outputs": [
    {
     "data": {
      "text/plain": [
       "14.32833333333335"
      ]
     },
     "execution_count": 1009,
     "metadata": {},
     "output_type": "execute_result"
    }
   ],
   "source": [
    "df_guangzhou[(df_guangzhou['season'] == 4) & (df_guangzhou['year'] == 2013)]['TEMP'].mean(skipna = True)"
   ]
  },
  {
   "cell_type": "code",
   "execution_count": 1010,
   "metadata": {},
   "outputs": [
    {
     "data": {
      "text/plain": [
       "13.218749999999995"
      ]
     },
     "execution_count": 1010,
     "metadata": {},
     "output_type": "execute_result"
    }
   ],
   "source": [
    "df_guangzhou[(df_guangzhou['season'] == 4) & (df_guangzhou['year'] == 2014)]['TEMP'].mean(skipna = True)"
   ]
  },
  {
   "cell_type": "code",
   "execution_count": 1011,
   "metadata": {},
   "outputs": [
    {
     "data": {
      "text/plain": [
       "15.158036129550728"
      ]
     },
     "execution_count": 1011,
     "metadata": {},
     "output_type": "execute_result"
    }
   ],
   "source": [
    "df_guangzhou[(df_guangzhou['season'] == 4) & (df_guangzhou['year'] == 2015)]['TEMP'].mean(skipna = True)"
   ]
  },
  {
   "cell_type": "code",
   "execution_count": 1012,
   "metadata": {},
   "outputs": [
    {
     "data": {
      "text/plain": [
       "7.051972157772622"
      ]
     },
     "execution_count": 1012,
     "metadata": {},
     "output_type": "execute_result"
    }
   ],
   "source": [
    "df_shanghai[(df_shanghai['season'] == 4) & (df_shanghai['year'] == 2010)]['TEMP'].mean(skipna = True)"
   ]
  },
  {
   "cell_type": "code",
   "execution_count": 1013,
   "metadata": {},
   "outputs": [
    {
     "data": {
      "text/plain": [
       "4.731481481481482"
      ]
     },
     "execution_count": 1013,
     "metadata": {},
     "output_type": "execute_result"
    }
   ],
   "source": [
    "df_shanghai[(df_shanghai['season'] == 4) & (df_shanghai['year'] == 2011)]['TEMP'].mean(skipna = True)"
   ]
  },
  {
   "cell_type": "code",
   "execution_count": 1014,
   "metadata": {},
   "outputs": [
    {
     "data": {
      "text/plain": [
       "5.177655677655678"
      ]
     },
     "execution_count": 1014,
     "metadata": {},
     "output_type": "execute_result"
    }
   ],
   "source": [
    "df_shanghai[(df_shanghai['season'] == 4) & (df_shanghai['year'] == 2012)]['TEMP'].mean(skipna = True)"
   ]
  },
  {
   "cell_type": "code",
   "execution_count": 1015,
   "metadata": {},
   "outputs": [
    {
     "data": {
      "text/plain": [
       "6.14675925925926"
      ]
     },
     "execution_count": 1015,
     "metadata": {},
     "output_type": "execute_result"
    }
   ],
   "source": [
    "df_shanghai[(df_shanghai['season'] == 4) & (df_shanghai['year'] == 2013)]['TEMP'].mean(skipna = True)"
   ]
  },
  {
   "cell_type": "code",
   "execution_count": 1016,
   "metadata": {},
   "outputs": [
    {
     "data": {
      "text/plain": [
       "6.740277777777778"
      ]
     },
     "execution_count": 1016,
     "metadata": {},
     "output_type": "execute_result"
    }
   ],
   "source": [
    "df_shanghai[(df_shanghai['season'] == 4) & (df_shanghai['year'] == 2014)]['TEMP'].mean(skipna = True)"
   ]
  },
  {
   "cell_type": "code",
   "execution_count": 1017,
   "metadata": {},
   "outputs": [
    {
     "data": {
      "text/plain": [
       "7.5298749421028255"
      ]
     },
     "execution_count": 1017,
     "metadata": {},
     "output_type": "execute_result"
    }
   ],
   "source": [
    "df_shanghai[(df_shanghai['season'] == 4) & (df_shanghai['year'] == 2015)]['TEMP'].mean(skipna = True)"
   ]
  },
  {
   "cell_type": "code",
   "execution_count": 1018,
   "metadata": {},
   "outputs": [
    {
     "data": {
      "text/plain": [
       "-9.607659971975712"
      ]
     },
     "execution_count": 1018,
     "metadata": {},
     "output_type": "execute_result"
    }
   ],
   "source": [
    "df_shenyang[(df_shenyang['season'] == 4) & (df_shenyang['year'] == 2010)]['TEMP'].mean(skipna = True)"
   ]
  },
  {
   "cell_type": "code",
   "execution_count": 1019,
   "metadata": {},
   "outputs": [
    {
     "data": {
      "text/plain": [
       "-10.357246728065924"
      ]
     },
     "execution_count": 1019,
     "metadata": {},
     "output_type": "execute_result"
    }
   ],
   "source": [
    "df_shenyang[(df_shenyang['season'] == 4) & (df_shenyang['year'] == 2011)]['TEMP'].mean(skipna = True)"
   ]
  },
  {
   "cell_type": "code",
   "execution_count": 1020,
   "metadata": {},
   "outputs": [
    {
     "data": {
      "text/plain": [
       "-11.393315018315018"
      ]
     },
     "execution_count": 1020,
     "metadata": {},
     "output_type": "execute_result"
    }
   ],
   "source": [
    "df_shenyang[(df_shenyang['season'] == 4) & (df_shenyang['year'] == 2012)]['TEMP'].mean(skipna = True)"
   ]
  },
  {
   "cell_type": "code",
   "execution_count": 1021,
   "metadata": {},
   "outputs": [
    {
     "data": {
      "text/plain": [
       "-9.72037037037037"
      ]
     },
     "execution_count": 1021,
     "metadata": {},
     "output_type": "execute_result"
    }
   ],
   "source": [
    "df_shenyang[(df_shenyang['season'] == 4) & (df_shenyang['year'] == 2013)]['TEMP'].mean(skipna = True)"
   ]
  },
  {
   "cell_type": "code",
   "execution_count": 1022,
   "metadata": {},
   "outputs": [
    {
     "data": {
      "text/plain": [
       "-7.64212962962963"
      ]
     },
     "execution_count": 1022,
     "metadata": {},
     "output_type": "execute_result"
    }
   ],
   "source": [
    "df_shenyang[(df_shenyang['season'] == 4) & (df_shenyang['year'] == 2014)]['TEMP'].mean(skipna = True)"
   ]
  },
  {
   "cell_type": "code",
   "execution_count": 1023,
   "metadata": {},
   "outputs": [
    {
     "data": {
      "text/plain": [
       "-6.510185185185185"
      ]
     },
     "execution_count": 1023,
     "metadata": {},
     "output_type": "execute_result"
    }
   ],
   "source": [
    "df_shenyang[(df_shenyang['season'] == 4) & (df_shenyang['year'] == 2015)]['TEMP'].mean(skipna = True)"
   ]
  },
  {
   "cell_type": "markdown",
   "metadata": {},
   "source": [
    "I define the hottest summer as the highest average temperature in summer for each year(from 2010 to 2015). Similarly, the coldest winter is the lowest average temperature in winter for each year(from 2010 to 2015). The hottest summer observed is year 2013 in Shanghai with average temperature 29.4. The coldest winter observed is year 2012 in Shenyang with average temperature -11.3."
   ]
  },
  {
   "cell_type": "markdown",
   "metadata": {},
   "source": [
    "# 1.1.5"
   ]
  },
  {
   "cell_type": "code",
   "execution_count": 1024,
   "metadata": {},
   "outputs": [
    {
     "data": {
      "text/plain": [
       "year                0\n",
       "month               0\n",
       "day                 0\n",
       "hour                0\n",
       "season              0\n",
       "PM               2197\n",
       "DEWP                5\n",
       "HUMI              339\n",
       "PRES              339\n",
       "TEMP                5\n",
       "Iws                 5\n",
       "precipitation     484\n",
       "Iprec             484\n",
       "dtype: int64"
      ]
     },
     "execution_count": 1024,
     "metadata": {},
     "output_type": "execute_result"
    }
   ],
   "source": [
    "df_beijing.isnull().sum()"
   ]
  },
  {
   "cell_type": "code",
   "execution_count": 1025,
   "metadata": {},
   "outputs": [
    {
     "data": {
      "text/plain": [
       "year                 0\n",
       "month                0\n",
       "day                  0\n",
       "hour                 0\n",
       "season               0\n",
       "PM               23684\n",
       "DEWP               529\n",
       "HUMI               535\n",
       "PRES               521\n",
       "TEMP               527\n",
       "Iws                533\n",
       "precipitation     2955\n",
       "Iprec             2955\n",
       "dtype: int64"
      ]
     },
     "execution_count": 1025,
     "metadata": {},
     "output_type": "execute_result"
    }
   ],
   "source": [
    "df_chengdu.isnull().sum()"
   ]
  },
  {
   "cell_type": "code",
   "execution_count": 1026,
   "metadata": {},
   "outputs": [
    {
     "data": {
      "text/plain": [
       "year                 0\n",
       "month                0\n",
       "day                  0\n",
       "hour                 0\n",
       "season               1\n",
       "PM               20232\n",
       "DEWP                 1\n",
       "HUMI                 1\n",
       "PRES                 1\n",
       "TEMP                 1\n",
       "Iws                  1\n",
       "precipitation        1\n",
       "Iprec                1\n",
       "dtype: int64"
      ]
     },
     "execution_count": 1026,
     "metadata": {},
     "output_type": "execute_result"
    }
   ],
   "source": [
    "df_guangzhou.isnull().sum()"
   ]
  },
  {
   "cell_type": "code",
   "execution_count": 1027,
   "metadata": {},
   "outputs": [
    {
     "data": {
      "text/plain": [
       "year                 0\n",
       "month                0\n",
       "day                  0\n",
       "hour                 0\n",
       "season               0\n",
       "PM               18545\n",
       "DEWP                13\n",
       "HUMI                13\n",
       "PRES                28\n",
       "TEMP                13\n",
       "Iws                 12\n",
       "precipitation     4009\n",
       "Iprec             4009\n",
       "dtype: int64"
      ]
     },
     "execution_count": 1027,
     "metadata": {},
     "output_type": "execute_result"
    }
   ],
   "source": [
    "df_shanghai.isnull().sum()"
   ]
  },
  {
   "cell_type": "code",
   "execution_count": 1028,
   "metadata": {},
   "outputs": [
    {
     "data": {
      "text/plain": [
       "year                 0\n",
       "month                0\n",
       "day                  0\n",
       "hour                 0\n",
       "season               0\n",
       "PM               30904\n",
       "DEWP               692\n",
       "HUMI               680\n",
       "PRES               692\n",
       "TEMP               692\n",
       "Iws                692\n",
       "precipitation    12763\n",
       "Iprec            12763\n",
       "dtype: int64"
      ]
     },
     "execution_count": 1028,
     "metadata": {},
     "output_type": "execute_result"
    }
   ],
   "source": [
    "df_shenyang.isnull().sum()"
   ]
  },
  {
   "cell_type": "markdown",
   "metadata": {},
   "source": [
    "PM(particulate matter) appears to contain the largest amount of missing data overall."
   ]
  },
  {
   "cell_type": "markdown",
   "metadata": {},
   "source": [
    "# 1.2 Visualizations"
   ]
  },
  {
   "cell_type": "code",
   "execution_count": 1029,
   "metadata": {},
   "outputs": [],
   "source": [
    "df_beijing.set_index(pd.to_datetime(df_beijing[[\"year\",\"month\",\"day\",\"hour\"]]), inplace=True)"
   ]
  },
  {
   "cell_type": "code",
   "execution_count": 1030,
   "metadata": {},
   "outputs": [],
   "source": [
    "df_chengdu.set_index(pd.to_datetime(df_chengdu[[\"year\",\"month\",\"day\",\"hour\"]]), inplace=True)"
   ]
  },
  {
   "cell_type": "code",
   "execution_count": 1031,
   "metadata": {},
   "outputs": [],
   "source": [
    "df_guangzhou.set_index(pd.to_datetime(df_guangzhou[[\"year\",\"month\",\"day\",\"hour\"]]), inplace=True)"
   ]
  },
  {
   "cell_type": "code",
   "execution_count": 1032,
   "metadata": {},
   "outputs": [],
   "source": [
    "df_shanghai.set_index(pd.to_datetime(df_shanghai[[\"year\",\"month\",\"day\",\"hour\"]]), inplace=True)"
   ]
  },
  {
   "cell_type": "code",
   "execution_count": 1033,
   "metadata": {},
   "outputs": [],
   "source": [
    "df_shenyang.set_index(pd.to_datetime(df_shenyang[[\"year\",\"month\",\"day\",\"hour\"]]), inplace=True)"
   ]
  },
  {
   "cell_type": "markdown",
   "metadata": {},
   "source": [
    "# 1.2.1"
   ]
  },
  {
   "cell_type": "code",
   "execution_count": 1034,
   "metadata": {},
   "outputs": [
    {
     "data": {
      "text/plain": [
       "[<matplotlib.lines.Line2D at 0x1a3f98af10>]"
      ]
     },
     "execution_count": 1034,
     "metadata": {},
     "output_type": "execute_result"
    },
    {
     "data": {
      "image/png": "[encoded data removed]",
      "text/plain": [
       "<Figure size 432x288 with 1 Axes>"
      ]
     },
     "metadata": {
      "needs_background": "light"
     },
     "output_type": "display_data"
    }
   ],
   "source": [
    "plt.plot(df_beijing.index.values, df_beijing['TEMP'])"
   ]
  },
  {
   "cell_type": "markdown",
   "metadata": {},
   "source": [
    "Based on the line chart, there's a noticable seasonal pattern. Temperatrue tends to be higher during summer, and lower during winter etcs.."
   ]
  },
  {
   "cell_type": "markdown",
   "metadata": {},
   "source": [
    "# 1.2.2"
   ]
  },
  {
   "cell_type": "code",
   "execution_count": 1035,
   "metadata": {},
   "outputs": [
    {
     "data": {
      "text/plain": [
       "<matplotlib.axes._subplots.AxesSubplot at 0x1a407ff810>"
      ]
     },
     "execution_count": 1035,
     "metadata": {},
     "output_type": "execute_result"
    },
    {
     "data": {
      "image/png": "[encoded data removed]",
      "text/plain": [
       "<Figure size 432x288 with 1 Axes>"
      ]
     },
     "metadata": {
      "needs_background": "light"
     },
     "output_type": "display_data"
    }
   ],
   "source": [
    "df_beijing.boxplot(column=['TEMP'], by=['month'])"
   ]
  },
  {
   "cell_type": "markdown",
   "metadata": {},
   "source": [
    "# 1.2.3"
   ]
  },
  {
   "cell_type": "code",
   "execution_count": 1036,
   "metadata": {},
   "outputs": [
    {
     "data": {
      "text/plain": [
       "<matplotlib.axes._subplots.AxesSubplot at 0x1a408d22d0>"
      ]
     },
     "execution_count": 1036,
     "metadata": {},
     "output_type": "execute_result"
    },
    {
     "data": {
      "image/png": "[encoded data removed]",
      "text/plain": [
       "<Figure size 432x288 with 1 Axes>"
      ]
     },
     "metadata": {
      "needs_background": "light"
     },
     "output_type": "display_data"
    }
   ],
   "source": [
    "df_beijing.plot.scatter(x='TEMP', y='PM', c='DarkBlue')"
   ]
  },
  {
   "cell_type": "code",
   "execution_count": 1037,
   "metadata": {},
   "outputs": [
    {
     "data": {
      "text/plain": [
       "<matplotlib.axes._subplots.AxesSubplot at 0x1a4307b110>"
      ]
     },
     "execution_count": 1037,
     "metadata": {},
     "output_type": "execute_result"
    },
    {
     "data": {
      "image/png": "[encoded data removed]",
      "text/plain": [
       "<Figure size 432x288 with 1 Axes>"
      ]
     },
     "metadata": {
      "needs_background": "light"
     },
     "output_type": "display_data"
    }
   ],
   "source": [
    "sns.regplot(df_beijing['TEMP'], df_beijing['PM'])"
   ]
  },
  {
   "cell_type": "markdown",
   "metadata": {},
   "source": [
    "Originally, I thought there exists some correlations between temperature and PM (particulate matter), but based on the scatter plot, they don't seem to be correlated(maybe weakly negative correlated) "
   ]
  },
  {
   "cell_type": "markdown",
   "metadata": {},
   "source": [
    "# 1.2.4"
   ]
  },
  {
   "cell_type": "code",
   "execution_count": 1038,
   "metadata": {},
   "outputs": [
    {
     "data": {
      "text/plain": [
       "[<matplotlib.lines.Line2D at 0x1a409193d0>]"
      ]
     },
     "execution_count": 1038,
     "metadata": {},
     "output_type": "execute_result"
    },
    {
     "data": {
      "image/png": "[encoded data removed]",
      "text/plain": [
       "<Figure size 432x288 with 1 Axes>"
      ]
     },
     "metadata": {
      "needs_background": "light"
     },
     "output_type": "display_data"
    }
   ],
   "source": [
    "plt.plot(df_beijing.index.values, df_beijing['PM'], c='DarkBlue')"
   ]
  },
  {
   "cell_type": "code",
   "execution_count": 1039,
   "metadata": {},
   "outputs": [
    {
     "data": {
      "text/plain": [
       "[<matplotlib.lines.Line2D at 0x1a446e82d0>]"
      ]
     },
     "execution_count": 1039,
     "metadata": {},
     "output_type": "execute_result"
    },
    {
     "data": {
      "image/png": "[encoded data removed]",
      "text/plain": [
       "<Figure size 432x288 with 1 Axes>"
      ]
     },
     "metadata": {
      "needs_background": "light"
     },
     "output_type": "display_data"
    }
   ],
   "source": [
    "plt.plot(df_chengdu.index.values, df_chengdu['PM'])"
   ]
  },
  {
   "cell_type": "code",
   "execution_count": 1040,
   "metadata": {},
   "outputs": [
    {
     "data": {
      "text/plain": [
       "[<matplotlib.lines.Line2D at 0x1a40afdc10>]"
      ]
     },
     "execution_count": 1040,
     "metadata": {},
     "output_type": "execute_result"
    },
    {
     "data": {
      "image/png": "[encoded data removed]",
      "text/plain": [
       "<Figure size 432x288 with 1 Axes>"
      ]
     },
     "metadata": {
      "needs_background": "light"
     },
     "output_type": "display_data"
    }
   ],
   "source": [
    "plt.plot(df_guangzhou.index.values, df_guangzhou['PM'], c='green')"
   ]
  },
  {
   "cell_type": "code",
   "execution_count": 1041,
   "metadata": {},
   "outputs": [
    {
     "data": {
      "text/plain": [
       "[<matplotlib.lines.Line2D at 0x1a46816490>]"
      ]
     },
     "execution_count": 1041,
     "metadata": {},
     "output_type": "execute_result"
    },
    {
     "data": {
      "image/png": "[encoded data removed]",
      "text/plain": [
       "<Figure size 432x288 with 1 Axes>"
      ]
     },
     "metadata": {
      "needs_background": "light"
     },
     "output_type": "display_data"
    }
   ],
   "source": [
    "plt.plot(df_shanghai.index.values, df_shanghai['PM'], c='orange')"
   ]
  },
  {
   "cell_type": "code",
   "execution_count": 1042,
   "metadata": {},
   "outputs": [
    {
     "data": {
      "text/plain": [
       "[<matplotlib.lines.Line2D at 0x1a46aee390>]"
      ]
     },
     "execution_count": 1042,
     "metadata": {},
     "output_type": "execute_result"
    },
    {
     "data": {
      "image/png": "[encoded data removed]",
      "text/plain": [
       "<Figure size 432x288 with 1 Axes>"
      ]
     },
     "metadata": {
      "needs_background": "light"
     },
     "output_type": "display_data"
    }
   ],
   "source": [
    "plt.plot(df_shenyang.index.values, df_shenyang['PM'], c='purple')"
   ]
  },
  {
   "cell_type": "code",
   "execution_count": 1043,
   "metadata": {},
   "outputs": [
    {
     "data": {
      "text/plain": [
       "Text(0.5, 1.0, 'Average PM From 2010 to 2015')"
      ]
     },
     "execution_count": 1043,
     "metadata": {},
     "output_type": "execute_result"
    },
    {
     "data": {
      "image/png": "[encoded data removed]",
      "text/plain": [
       "<Figure size 432x288 with 1 Axes>"
      ]
     },
     "metadata": {
      "needs_background": "light"
     },
     "output_type": "display_data"
    }
   ],
   "source": [
    "plt.plot(df_beijing.groupby('year').mean().index.values, df_beijing.groupby('year').mean()['PM'], label='Beijing', c='DarkBlue')\n",
    "plt.plot(df_chengdu.groupby('year').mean().index.values, df_chengdu.groupby('year').mean()['PM'], label='Chengdu')\n",
    "plt.plot(df_guangzhou.groupby('year').mean().index.values, df_guangzhou.groupby('year').mean()['PM'], label='Guangzhou', c='green')\n",
    "plt.plot(df_shanghai.groupby('year').mean().index.values, df_shanghai.groupby('year').mean()['PM'], label='Shanghai', c='orange')\n",
    "plt.plot(df_shenyang.groupby('year').mean().index.values, df_shenyang.groupby('year').mean()['PM'], label='Shenyang', c='purple')\n",
    "plt.legend()\n",
    "plt.xlabel('Year')\n",
    "plt.ylabel('PM Level')\n",
    "plt.title('Average PM From 2010 to 2015')"
   ]
  },
  {
   "cell_type": "markdown",
   "metadata": {},
   "source": [
    "# 1.3 Regression"
   ]
  },
  {
   "cell_type": "markdown",
   "metadata": {},
   "source": [
    "# 1.3.1"
   ]
  },
  {
   "cell_type": "code",
   "execution_count": 1044,
   "metadata": {},
   "outputs": [
    {
     "data": {
      "text/plain": [
       "0.26950638719252284"
      ]
     },
     "execution_count": 1044,
     "metadata": {},
     "output_type": "execute_result"
    }
   ],
   "source": [
    "# Drop rows that have missing values\n",
    "df_beijing = df_beijing.dropna()\n",
    "# Treat the column PM as our predictive objective\n",
    "y = df_beijing[\"PM\"]\n",
    "# All other columns will be used as features when training our model\n",
    "X = df_beijing.drop([\"PM\"], axis=1)\n",
    "# Split 70% of the data for training and leave out 30% for testing\n",
    "X_train, X_test, y_train, y_test = train_test_split(X, y, test_size=0.3, random_state=42)\n",
    "lr = LinearRegression()\n",
    "lr.fit(X_train, y_train)\n",
    "y_pred = lr.predict(X_test)\n",
    "r2_score(y_test, y_pred)"
   ]
  },
  {
   "cell_type": "code",
   "execution_count": 1045,
   "metadata": {},
   "outputs": [
    {
     "data": {
      "text/plain": [
       "0.27412462852835184"
      ]
     },
     "execution_count": 1045,
     "metadata": {},
     "output_type": "execute_result"
    }
   ],
   "source": [
    "# Drop rows that have missing values\n",
    "df_chengdu = df_chengdu.dropna()\n",
    "# Treat the column PM as our predictive objective\n",
    "y = df_chengdu[\"PM\"]\n",
    "# All other columns will be used as features when training our model\n",
    "X = df_chengdu.drop([\"PM\"], axis=1)\n",
    "# Split 70% of the data for training and leave out 30% for testing\n",
    "X_train, X_test, y_train, y_test = train_test_split(X, y, test_size=0.3, random_state=42)\n",
    "lr = LinearRegression()\n",
    "lr.fit(X_train, y_train)\n",
    "y_pred = lr.predict(X_test)\n",
    "r2_score(y_test, y_pred)"
   ]
  },
  {
   "cell_type": "code",
   "execution_count": 1046,
   "metadata": {},
   "outputs": [
    {
     "data": {
      "text/plain": [
       "0.14467127942864733"
      ]
     },
     "execution_count": 1046,
     "metadata": {},
     "output_type": "execute_result"
    }
   ],
   "source": [
    "# Drop rows that have missing values\n",
    "df_guangzhou = df_guangzhou.dropna()\n",
    "# Treat the column PM as our predictive objective\n",
    "y = df_guangzhou[\"PM\"]\n",
    "# All other columns will be used as features when training our model\n",
    "X = df_guangzhou.drop([\"PM\"], axis=1)\n",
    "# Split 70% of the data for training and leave out 30% for testing\n",
    "X_train, X_test, y_train, y_test = train_test_split(X, y, test_size=0.3, random_state=42)\n",
    "lr = LinearRegression()\n",
    "lr.fit(X_train, y_train)\n",
    "y_pred = lr.predict(X_test)\n",
    "r2_score(y_test, y_pred)"
   ]
  },
  {
   "cell_type": "code",
   "execution_count": 1047,
   "metadata": {},
   "outputs": [
    {
     "data": {
      "text/plain": [
       "0.1718142013741748"
      ]
     },
     "execution_count": 1047,
     "metadata": {},
     "output_type": "execute_result"
    }
   ],
   "source": [
    "# Drop rows that have missing values\n",
    "df_shanghai = df_shanghai.dropna()\n",
    "# Treat the column PM as our predictive objective\n",
    "y = df_shanghai[\"PM\"]\n",
    "# All other columns will be used as features when training our model\n",
    "X = df_shanghai.drop([\"PM\"], axis=1)\n",
    "# Split 70% of the data for training and leave out 30% for testing\n",
    "X_train, X_test, y_train, y_test = train_test_split(X, y, test_size=0.3, random_state=42)\n",
    "lr = LinearRegression()\n",
    "lr.fit(X_train, y_train)\n",
    "y_pred = lr.predict(X_test)\n",
    "r2_score(y_test, y_pred)"
   ]
  },
  {
   "cell_type": "code",
   "execution_count": 1048,
   "metadata": {},
   "outputs": [
    {
     "data": {
      "text/plain": [
       "0.21522311748622358"
      ]
     },
     "execution_count": 1048,
     "metadata": {},
     "output_type": "execute_result"
    }
   ],
   "source": [
    "# Drop rows that have missing values\n",
    "df_shenyang = df_shenyang.dropna()\n",
    "# Treat the column PM as our predictive objective\n",
    "y = df_shenyang[\"PM\"]\n",
    "# All other columns will be used as features when training our model\n",
    "X = df_shenyang.drop([\"PM\"], axis=1)\n",
    "# Split 70% of the data for training and leave out 30% for testing\n",
    "X_train, X_test, y_train, y_test = train_test_split(X, y, test_size=0.3, random_state=42)\n",
    "lr = LinearRegression()\n",
    "lr.fit(X_train, y_train)\n",
    "y_pred = lr.predict(X_test)\n",
    "r2_score(y_test, y_pred)"
   ]
  },
  {
   "cell_type": "markdown",
   "metadata": {},
   "source": [
    "# 1.3.2"
   ]
  },
  {
   "cell_type": "code",
   "execution_count": 1049,
   "metadata": {},
   "outputs": [
    {
     "data": {
      "text/plain": [
       "-31.247523854564584"
      ]
     },
     "execution_count": 1049,
     "metadata": {},
     "output_type": "execute_result"
    }
   ],
   "source": [
    "# Drop rows that have missing values\n",
    "df_chengdu = df_chengdu.dropna()\n",
    "# Treat the column PM as our predictive objective\n",
    "y_train = df_chengdu[\"PM\"]\n",
    "# All other columns will be used as features when training our model\n",
    "X_train = df_chengdu.drop([\"PM\"], axis=1)\n",
    "\n",
    "# Drop rows that have missing values\n",
    "df_guangzhou = df_guangzhou.dropna()\n",
    "# Treat the column PM as our predictive objective\n",
    "y_test = df_guangzhou[\"PM\"]\n",
    "# All other columns will be used as features when training our model\n",
    "X_test = df_guangzhou.drop([\"PM\"], axis=1)\n",
    "\n",
    "lr = LinearRegression()\n",
    "lr.fit(X_train, y_train)\n",
    "y_pred = lr.predict(X_test)\n",
    "r2_score(y_test, y_pred)"
   ]
  },
  {
   "cell_type": "markdown",
   "metadata": {},
   "source": [
    "R2 score of this model is -31 which indicates the model fits worse than a horizontal line. Therefore, this model performes worse than the model using data from the same city for both training and testing."
   ]
  },
  {
   "cell_type": "markdown",
   "metadata": {},
   "source": [
    "# 1.3.3"
   ]
  },
  {
   "cell_type": "code",
   "execution_count": 1050,
   "metadata": {},
   "outputs": [
    {
     "data": {
      "text/plain": [
       "0.3793314199839124"
      ]
     },
     "execution_count": 1050,
     "metadata": {},
     "output_type": "execute_result"
    }
   ],
   "source": [
    "# Drop rows that have missing values\n",
    "df_shanghai = df_shanghai.dropna()\n",
    "# Treat the column PM as our predictive objective\n",
    "y = df_shanghai[\"season\"]\n",
    "# All other columns will be used as features when training our model\n",
    "X = df_shanghai.drop([\"season\"], axis=1)\n",
    "# Split 70% of the data for training and leave out 30% for testing\n",
    "X_train, X_test, y_train, y_test = train_test_split(X, y, test_size=0.3, random_state=42)\n",
    "lr = LinearRegression()\n",
    "lr.fit(X_train, y_train)\n",
    "y_pred = lr.predict(X_test)\n",
    "r2_score(y_test, y_pred)"
   ]
  },
  {
   "cell_type": "code",
   "execution_count": 1051,
   "metadata": {},
   "outputs": [
    {
     "data": {
      "text/plain": [
       "0.9928766653991652"
      ]
     },
     "execution_count": 1051,
     "metadata": {},
     "output_type": "execute_result"
    }
   ],
   "source": [
    "# Drop rows that have missing values\n",
    "df_shanghai = df_shanghai.dropna()\n",
    "# Treat the column PM as our predictive objective\n",
    "y = df_shanghai[\"DEWP\"]\n",
    "# All other columns will be used as features when training our model\n",
    "X = df_shanghai.drop([\"DEWP\"], axis=1)\n",
    "# Split 70% of the data for training and leave out 30% for testing\n",
    "X_train, X_test, y_train, y_test = train_test_split(X, y, test_size=0.3, random_state=42)\n",
    "lr = LinearRegression()\n",
    "lr.fit(X_train, y_train)\n",
    "y_pred = lr.predict(X_test)\n",
    "r2_score(y_test, y_pred)"
   ]
  },
  {
   "cell_type": "code",
   "execution_count": 1052,
   "metadata": {},
   "outputs": [
    {
     "data": {
      "text/plain": [
       "0.9674149427399534"
      ]
     },
     "execution_count": 1052,
     "metadata": {},
     "output_type": "execute_result"
    }
   ],
   "source": [
    "# Drop rows that have missing values\n",
    "df_shanghai = df_shanghai.dropna()\n",
    "# Treat the column PM as our predictive objective\n",
    "y = df_shanghai[\"HUMI\"]\n",
    "# All other columns will be used as features when training our model\n",
    "X = df_shanghai.drop([\"HUMI\"], axis=1)\n",
    "# Split 70% of the data for training and leave out 30% for testing\n",
    "X_train, X_test, y_train, y_test = train_test_split(X, y, test_size=0.3, random_state=42)\n",
    "lr = LinearRegression()\n",
    "lr.fit(X_train, y_train)\n",
    "y_pred = lr.predict(X_test)\n",
    "r2_score(y_test, y_pred)"
   ]
  },
  {
   "cell_type": "code",
   "execution_count": 1053,
   "metadata": {},
   "outputs": [
    {
     "data": {
      "text/plain": [
       "0.8186242030375779"
      ]
     },
     "execution_count": 1053,
     "metadata": {},
     "output_type": "execute_result"
    }
   ],
   "source": [
    "# Drop rows that have missing values\n",
    "df_shanghai = df_shanghai.dropna()\n",
    "# Treat the column PM as our predictive objective\n",
    "y = df_shanghai[\"PRES\"]\n",
    "# All other columns will be used as features when training our model\n",
    "X = df_shanghai.drop([\"PRES\"], axis=1)\n",
    "# Split 70% of the data for training and leave out 30% for testing\n",
    "X_train, X_test, y_train, y_test = train_test_split(X, y, test_size=0.3, random_state=42)\n",
    "lr = LinearRegression()\n",
    "lr.fit(X_train, y_train)\n",
    "y_pred = lr.predict(X_test)\n",
    "r2_score(y_test, y_pred)"
   ]
  },
  {
   "cell_type": "code",
   "execution_count": 1054,
   "metadata": {},
   "outputs": [
    {
     "data": {
      "text/plain": [
       "0.992046622730797"
      ]
     },
     "execution_count": 1054,
     "metadata": {},
     "output_type": "execute_result"
    }
   ],
   "source": [
    "# Drop rows that have missing values\n",
    "df_shanghai = df_shanghai.dropna()\n",
    "# Treat the column PM as our predictive objective\n",
    "y = df_shanghai[\"TEMP\"]\n",
    "# All other columns will be used as features when training our model\n",
    "X = df_shanghai.drop([\"TEMP\"], axis=1)\n",
    "# Split 70% of the data for training and leave out 30% for testing\n",
    "X_train, X_test, y_train, y_test = train_test_split(X, y, test_size=0.3, random_state=42)\n",
    "lr = LinearRegression()\n",
    "lr.fit(X_train, y_train)\n",
    "y_pred = lr.predict(X_test)\n",
    "r2_score(y_test, y_pred)"
   ]
  },
  {
   "cell_type": "code",
   "execution_count": 1055,
   "metadata": {},
   "outputs": [
    {
     "data": {
      "text/plain": [
       "0.06044626444371526"
      ]
     },
     "execution_count": 1055,
     "metadata": {},
     "output_type": "execute_result"
    }
   ],
   "source": [
    "# Drop rows that have missing values\n",
    "df_shanghai = df_shanghai.dropna()\n",
    "# Treat the column PM as our predictive objective\n",
    "y = df_shanghai[\"Iws\"]\n",
    "# All other columns will be used as features when training our model\n",
    "X = df_shanghai.drop([\"Iws\"], axis=1)\n",
    "# Split 70% of the data for training and leave out 30% for testing\n",
    "X_train, X_test, y_train, y_test = train_test_split(X, y, test_size=0.3, random_state=42)\n",
    "lr = LinearRegression()\n",
    "lr.fit(X_train, y_train)\n",
    "y_pred = lr.predict(X_test)\n",
    "r2_score(y_test, y_pred)"
   ]
  },
  {
   "cell_type": "code",
   "execution_count": 1056,
   "metadata": {},
   "outputs": [
    {
     "data": {
      "text/plain": [
       "0.25716658822535077"
      ]
     },
     "execution_count": 1056,
     "metadata": {},
     "output_type": "execute_result"
    }
   ],
   "source": [
    "# Drop rows that have missing values\n",
    "df_shanghai = df_shanghai.dropna()\n",
    "# Treat the column PM as our predictive objective\n",
    "y = df_shanghai[\"precipitation\"]\n",
    "# All other columns will be used as features when training our model\n",
    "X = df_shanghai.drop([\"precipitation\"], axis=1)\n",
    "# Split 70% of the data for training and leave out 30% for testing\n",
    "X_train, X_test, y_train, y_test = train_test_split(X, y, test_size=0.3, random_state=42)\n",
    "lr = LinearRegression()\n",
    "lr.fit(X_train, y_train)\n",
    "y_pred = lr.predict(X_test)\n",
    "r2_score(y_test, y_pred)"
   ]
  },
  {
   "cell_type": "code",
   "execution_count": 1057,
   "metadata": {},
   "outputs": [
    {
     "data": {
      "text/plain": [
       "0.2549135395477492"
      ]
     },
     "execution_count": 1057,
     "metadata": {},
     "output_type": "execute_result"
    }
   ],
   "source": [
    "# Drop rows that have missing values\n",
    "df_shanghai = df_shanghai.dropna()\n",
    "# Treat the column PM as our predictive objective\n",
    "y = df_shanghai[\"Iprec\"]\n",
    "# All other columns will be used as features when training our model\n",
    "X = df_shanghai.drop([\"Iprec\"], axis=1)\n",
    "# Split 70% of the data for training and leave out 30% for testing\n",
    "X_train, X_test, y_train, y_test = train_test_split(X, y, test_size=0.3, random_state=42)\n",
    "lr = LinearRegression()\n",
    "lr.fit(X_train, y_train)\n",
    "y_pred = lr.predict(X_test)\n",
    "r2_score(y_test, y_pred)"
   ]
  },
  {
   "cell_type": "markdown",
   "metadata": {},
   "source": [
    "DEWP(Dew Point), TEMP(Temperature), HUMI(Humidity), and PRES(Pressure) seem to be easier to predict than others. These features tend to be easier to predict becasue of their obvious patterns over a certain period of time. For example, temperature tends to be higher during summer, and lower during winter. Also, other features tend to form similar patterns when predcting temperature, and these features tend to have similar values at certain period of time; Using one of the features, month as an example, June to August is considered summer month, so temperature will be higher in these months, but lower in December becasue this month is considered winter. Season 2 indicates high temperature and Season 4 indicates low temperature. Same logic applies to DEWP(Dew Point), HUMI(Humidity) and PRES(Pressure)."
   ]
  },
  {
   "cell_type": "markdown",
   "metadata": {},
   "source": [
    "# Visualizations for Bonus Question"
   ]
  },
  {
   "cell_type": "code",
   "execution_count": 1058,
   "metadata": {},
   "outputs": [
    {
     "data": {
      "text/plain": [
       "Text(0.5, 1.0, 'Average PM From 2010 to 2015')"
      ]
     },
     "execution_count": 1058,
     "metadata": {},
     "output_type": "execute_result"
    },
    {
     "data": {
      "image/png": "[encoded data removed]",
      "text/plain": [
       "<Figure size 432x288 with 1 Axes>"
      ]
     },
     "metadata": {
      "needs_background": "light"
     },
     "output_type": "display_data"
    }
   ],
   "source": [
    "plt.plot(df_beijing.groupby('year').mean().index.values, df_beijing.groupby('year').mean()['PM'], label='Beijing', c='DarkBlue')\n",
    "plt.plot(df_chengdu.groupby('year').mean().index.values, df_chengdu.groupby('year').mean()['PM'], label='Chengdu')\n",
    "plt.plot(df_guangzhou.groupby('year').mean().index.values, df_guangzhou.groupby('year').mean()['PM'], label='Guangzhou', c='green')\n",
    "plt.plot(df_shanghai.groupby('year').mean().index.values, df_shanghai.groupby('year').mean()['PM'], label='Shanghai', c='orange')\n",
    "plt.plot(df_shenyang.groupby('year').mean().index.values, df_shenyang.groupby('year').mean()['PM'], label='Shenyang', c='purple')\n",
    "plt.legend()\n",
    "plt.xlabel('Year')\n",
    "plt.ylabel('PM Level')\n",
    "plt.title('Average PM From 2010 to 2015')"
   ]
  },
  {
   "cell_type": "code",
   "execution_count": 1059,
   "metadata": {},
   "outputs": [
    {
     "data": {
      "text/plain": [
       "Text(0.5, 1.0, 'Average Temperature in Summer From 2010 to 2015')"
      ]
     },
     "execution_count": 1059,
     "metadata": {},
     "output_type": "execute_result"
    },
    {
     "data": {
      "image/png": "[encoded data removed]",
      "text/plain": [
       "<Figure size 432x288 with 1 Axes>"
      ]
     },
     "metadata": {
      "needs_background": "light"
     },
     "output_type": "display_data"
    }
   ],
   "source": [
    "plt.plot(df_beijing[df_beijing['season']== 2].groupby('year').mean().index.values, df_beijing[df_beijing['season']== 2].groupby('year').mean()['TEMP'], label='Beijing', c='DarkBlue')\n",
    "plt.plot(df_chengdu[df_chengdu['season']== 2].groupby('year').mean().index.values, df_chengdu[df_chengdu['season']== 2].groupby('year').mean()['TEMP'], label='Chengdu')\n",
    "plt.plot(df_guangzhou[df_guangzhou['season']== 2].groupby('year').mean().index.values, df_guangzhou[df_guangzhou['season']== 2].groupby('year').mean()['TEMP'], label='Guangzhou', c='green')\n",
    "plt.plot(df_shanghai[df_shanghai['season']== 2].groupby('year').mean().index.values, df_shanghai[df_shanghai['season']== 2].groupby('year').mean()['TEMP'], label='Shanghai', c='orange')\n",
    "plt.plot(df_shenyang[df_shenyang['season']== 2].groupby('year').mean().index.values, df_shenyang[df_shenyang['season']== 2].groupby('year').mean()['TEMP'], label='Shenyang', c='purple')\n",
    "plt.legend()\n",
    "plt.xlabel('Year')\n",
    "plt.ylabel('Temperature')\n",
    "plt.title('Average Temperature in Summer From 2010 to 2015')"
   ]
  },
  {
   "cell_type": "code",
   "execution_count": 1060,
   "metadata": {},
   "outputs": [
    {
     "data": {
      "text/plain": [
       "Text(0.5, 1.0, 'Average Temperature in Winter From 2010 to 2015')"
      ]
     },
     "execution_count": 1060,
     "metadata": {},
     "output_type": "execute_result"
    },
    {
     "data": {
      "image/png": "[encoded data removed]",
      "text/plain": [
       "<Figure size 432x288 with 1 Axes>"
      ]
     },
     "metadata": {
      "needs_background": "light"
     },
     "output_type": "display_data"
    }
   ],
   "source": [
    "plt.plot(df_beijing[df_beijing['season']== 4].groupby('year').mean().index.values, df_beijing[df_beijing['season']== 4].groupby('year').mean()['TEMP'], label='Beijing', c='DarkBlue')\n",
    "plt.plot(df_chengdu[df_chengdu['season']== 4].groupby('year').mean().index.values, df_chengdu[df_chengdu['season']== 4].groupby('year').mean()['TEMP'], label='Chengdu')\n",
    "plt.plot(df_guangzhou[df_guangzhou['season']== 4].groupby('year').mean().index.values, df_guangzhou[df_guangzhou['season']== 4].groupby('year').mean()['TEMP'], label='Guangzhou', c='green')\n",
    "plt.plot(df_shanghai[df_shanghai['season']== 4].groupby('year').mean().index.values, df_shanghai[df_shanghai['season']== 4].groupby('year').mean()['TEMP'], label='Shanghai', c='orange')\n",
    "plt.plot(df_shenyang[df_shenyang['season']== 4].groupby('year').mean().index.values, df_shenyang[df_shenyang['season']== 4].groupby('year').mean()['TEMP'], label='Shenyang', c='purple')\n",
    "plt.legend()\n",
    "plt.xlabel('Year')\n",
    "plt.ylabel('Temperature')\n",
    "plt.title('Average Temperature in Winter From 2010 to 2015')"
   ]
  },
  {
   "cell_type": "code",
   "execution_count": 1061,
   "metadata": {},
   "outputs": [
    {
     "data": {
      "text/plain": [
       "Text(0.5, 1.0, 'Average Temperature From 2010 to 2015')"
      ]
     },
     "execution_count": 1061,
     "metadata": {},
     "output_type": "execute_result"
    },
    {
     "data": {
      "image/png": "[encoded data removed]",
      "text/plain": [
       "<Figure size 432x288 with 1 Axes>"
      ]
     },
     "metadata": {
      "needs_background": "light"
     },
     "output_type": "display_data"
    }
   ],
   "source": [
    "plt.plot(df_beijing.groupby('year').mean().index.values, df_beijing.groupby('year').mean()['TEMP'], label='Beijing', c='DarkBlue')\n",
    "plt.plot(df_chengdu.groupby('year').mean().index.values, df_chengdu.groupby('year').mean()['TEMP'], label='Chengdu')\n",
    "plt.plot(df_guangzhou.groupby('year').mean().index.values, df_guangzhou.groupby('year').mean()['TEMP'], label='Guangzhou', c='green')\n",
    "plt.plot(df_shanghai.groupby('year').mean().index.values, df_shanghai.groupby('year').mean()['TEMP'], label='Shanghai', c='orange')\n",
    "plt.plot(df_shenyang.groupby('year').mean().index.values, df_shenyang.groupby('year').mean()['TEMP'], label='Shenyang', c='purple')\n",
    "plt.legend()\n",
    "plt.xlabel('Year')\n",
    "plt.ylabel('Temperature')\n",
    "plt.title('Average Temperature From 2010 to 2015')"
   ]
  }
 ],
 "metadata": {
  "kernelspec": {
   "display_name": "Python 3",
   "language": "python",
   "name": "python3"
  },
  "language_info": {
   "codemirror_mode": {
    "name": "ipython",
    "version": 3
   },
   "file_extension": ".py",
   "mimetype": "text/x-python",
   "name": "python",
   "nbconvert_exporter": "python",
   "pygments_lexer": "ipython3",
   "version": "3.7.4"
  }
 },
 "nbformat": 4,
 "nbformat_minor": 2
}
